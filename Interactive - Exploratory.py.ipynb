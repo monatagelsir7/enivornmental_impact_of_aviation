{
 "cells": [
  {
   "cell_type": "code",
   "execution_count": null,
   "metadata": {},
   "outputs": [],
   "source": [
    "import pandas as pd\n",
    "\n",
    "df = pd.read_parquet(\"cleaned_aviation_data_v3.parquet\")\n",
    "\n"
   ]
  },
  {
   "cell_type": "code",
   "execution_count": null,
   "metadata": {},
   "outputs": [
    {
     "data": {
      "text/html": [
       "<div>\n",
       "<style scoped>\n",
       "    .dataframe tbody tr th:only-of-type {\n",
       "        vertical-align: middle;\n",
       "    }\n",
       "\n",
       "    .dataframe tbody tr th {\n",
       "        vertical-align: top;\n",
       "    }\n",
       "\n",
       "    .dataframe thead th {\n",
       "        text-align: right;\n",
       "    }\n",
       "</style>\n",
       "<table border=\"1\" class=\"dataframe\">\n",
       "  <thead>\n",
       "    <tr style=\"text-align: right;\">\n",
       "      <th></th>\n",
       "      <th>airline_iata</th>\n",
       "      <th>acft_icao</th>\n",
       "      <th>acft_class</th>\n",
       "      <th>seymour_proxy</th>\n",
       "      <th>source</th>\n",
       "      <th>seats</th>\n",
       "      <th>n_flights</th>\n",
       "      <th>iata_departure</th>\n",
       "      <th>iata_arrival</th>\n",
       "      <th>departure_lon</th>\n",
       "      <th>...</th>\n",
       "      <th>distance_km</th>\n",
       "      <th>ask</th>\n",
       "      <th>rpk</th>\n",
       "      <th>fuel_burn_seymour</th>\n",
       "      <th>fuel_burn</th>\n",
       "      <th>co2</th>\n",
       "      <th>domestic</th>\n",
       "      <th>log_co2</th>\n",
       "      <th>log_distance</th>\n",
       "      <th>co2_per_distance</th>\n",
       "    </tr>\n",
       "  </thead>\n",
       "  <tbody>\n",
       "    <tr>\n",
       "      <th>0</th>\n",
       "      <td>1SQ</td>\n",
       "      <td>PA32</td>\n",
       "      <td>PP</td>\n",
       "      <td>P28B</td>\n",
       "      <td>BTS</td>\n",
       "      <td>62112.0</td>\n",
       "      <td>11466.5</td>\n",
       "      <td>SPN</td>\n",
       "      <td>TIQ</td>\n",
       "      <td>145.729004</td>\n",
       "      <td>...</td>\n",
       "      <td>17.765225</td>\n",
       "      <td>1.103434e+06</td>\n",
       "      <td>9.092294e+05</td>\n",
       "      <td>20.486379</td>\n",
       "      <td>2.349071e+05</td>\n",
       "      <td>7.423063e+05</td>\n",
       "      <td>1</td>\n",
       "      <td>13.517519</td>\n",
       "      <td>2.932005</td>\n",
       "      <td>41784.233355</td>\n",
       "    </tr>\n",
       "    <tr>\n",
       "      <th>1</th>\n",
       "      <td>1SQ</td>\n",
       "      <td>PA32</td>\n",
       "      <td>PP</td>\n",
       "      <td>P28B</td>\n",
       "      <td>BTS</td>\n",
       "      <td>62112.0</td>\n",
       "      <td>11466.5</td>\n",
       "      <td>TIQ</td>\n",
       "      <td>SPN</td>\n",
       "      <td>145.619003</td>\n",
       "      <td>...</td>\n",
       "      <td>17.765225</td>\n",
       "      <td>1.103434e+06</td>\n",
       "      <td>9.092294e+05</td>\n",
       "      <td>20.486379</td>\n",
       "      <td>2.349071e+05</td>\n",
       "      <td>7.423063e+05</td>\n",
       "      <td>1</td>\n",
       "      <td>13.517519</td>\n",
       "      <td>2.932005</td>\n",
       "      <td>41784.233355</td>\n",
       "    </tr>\n",
       "    <tr>\n",
       "      <th>2</th>\n",
       "      <td>HA</td>\n",
       "      <td>B712</td>\n",
       "      <td>NB</td>\n",
       "      <td>B712</td>\n",
       "      <td>BTS</td>\n",
       "      <td>1246720.0</td>\n",
       "      <td>9740.0</td>\n",
       "      <td>HNL</td>\n",
       "      <td>OGG</td>\n",
       "      <td>-157.924228</td>\n",
       "      <td>...</td>\n",
       "      <td>162.001417</td>\n",
       "      <td>2.019704e+08</td>\n",
       "      <td>1.664236e+08</td>\n",
       "      <td>1305.895783</td>\n",
       "      <td>1.271942e+07</td>\n",
       "      <td>4.019338e+07</td>\n",
       "      <td>1</td>\n",
       "      <td>17.509213</td>\n",
       "      <td>5.093759</td>\n",
       "      <td>248105.130283</td>\n",
       "    </tr>\n",
       "    <tr>\n",
       "      <th>3</th>\n",
       "      <td>HA</td>\n",
       "      <td>B712</td>\n",
       "      <td>NB</td>\n",
       "      <td>B712</td>\n",
       "      <td>BTS</td>\n",
       "      <td>1246720.0</td>\n",
       "      <td>9740.0</td>\n",
       "      <td>OGG</td>\n",
       "      <td>HNL</td>\n",
       "      <td>-156.431212</td>\n",
       "      <td>...</td>\n",
       "      <td>162.001417</td>\n",
       "      <td>2.019704e+08</td>\n",
       "      <td>1.664236e+08</td>\n",
       "      <td>1305.895783</td>\n",
       "      <td>1.271942e+07</td>\n",
       "      <td>4.019338e+07</td>\n",
       "      <td>1</td>\n",
       "      <td>17.509213</td>\n",
       "      <td>5.093759</td>\n",
       "      <td>248105.130283</td>\n",
       "    </tr>\n",
       "    <tr>\n",
       "      <th>4</th>\n",
       "      <td>HA</td>\n",
       "      <td>B712</td>\n",
       "      <td>NB</td>\n",
       "      <td>B712</td>\n",
       "      <td>BTS</td>\n",
       "      <td>879296.0</td>\n",
       "      <td>6869.5</td>\n",
       "      <td>HNL</td>\n",
       "      <td>KOA</td>\n",
       "      <td>-157.924228</td>\n",
       "      <td>...</td>\n",
       "      <td>262.778946</td>\n",
       "      <td>2.310605e+08</td>\n",
       "      <td>1.903938e+08</td>\n",
       "      <td>1567.819046</td>\n",
       "      <td>1.077013e+07</td>\n",
       "      <td>3.403362e+07</td>\n",
       "      <td>1</td>\n",
       "      <td>17.342859</td>\n",
       "      <td>5.575111</td>\n",
       "      <td>129514.257569</td>\n",
       "    </tr>\n",
       "  </tbody>\n",
       "</table>\n",
       "<p>5 rows × 28 columns</p>\n",
       "</div>"
      ],
      "text/plain": [
       "  airline_iata acft_icao acft_class seymour_proxy source      seats  \\\n",
       "0          1SQ      PA32         PP          P28B    BTS    62112.0   \n",
       "1          1SQ      PA32         PP          P28B    BTS    62112.0   \n",
       "2           HA      B712         NB          B712    BTS  1246720.0   \n",
       "3           HA      B712         NB          B712    BTS  1246720.0   \n",
       "4           HA      B712         NB          B712    BTS   879296.0   \n",
       "\n",
       "   n_flights iata_departure iata_arrival  departure_lon  ...  distance_km  \\\n",
       "0    11466.5            SPN          TIQ     145.729004  ...    17.765225   \n",
       "1    11466.5            TIQ          SPN     145.619003  ...    17.765225   \n",
       "2     9740.0            HNL          OGG    -157.924228  ...   162.001417   \n",
       "3     9740.0            OGG          HNL    -156.431212  ...   162.001417   \n",
       "4     6869.5            HNL          KOA    -157.924228  ...   262.778946   \n",
       "\n",
       "            ask           rpk  fuel_burn_seymour     fuel_burn           co2  \\\n",
       "0  1.103434e+06  9.092294e+05          20.486379  2.349071e+05  7.423063e+05   \n",
       "1  1.103434e+06  9.092294e+05          20.486379  2.349071e+05  7.423063e+05   \n",
       "2  2.019704e+08  1.664236e+08        1305.895783  1.271942e+07  4.019338e+07   \n",
       "3  2.019704e+08  1.664236e+08        1305.895783  1.271942e+07  4.019338e+07   \n",
       "4  2.310605e+08  1.903938e+08        1567.819046  1.077013e+07  3.403362e+07   \n",
       "\n",
       "  domestic    log_co2  log_distance  co2_per_distance  \n",
       "0        1  13.517519      2.932005      41784.233355  \n",
       "1        1  13.517519      2.932005      41784.233355  \n",
       "2        1  17.509213      5.093759     248105.130283  \n",
       "3        1  17.509213      5.093759     248105.130283  \n",
       "4        1  17.342859      5.575111     129514.257569  \n",
       "\n",
       "[5 rows x 28 columns]"
      ]
     },
     "execution_count": 2,
     "metadata": {},
     "output_type": "execute_result"
    }
   ],
   "source": [
    "df.head()"
   ]
  },
  {
   "cell_type": "code",
   "execution_count": null,
   "metadata": {},
   "outputs": [],
   "source": [
    "import matplotlib.pyplot as plt"
   ]
  },
  {
   "cell_type": "code",
   "execution_count": null,
   "metadata": {},
   "outputs": [
    {
     "ename": "KeyError",
     "evalue": "'CO2_per_distance'",
     "output_type": "error",
     "traceback": [
      "\u001b[1;31m---------------------------------------------------------------------------\u001b[0m",
      "\u001b[1;31mKeyError\u001b[0m                                  Traceback (most recent call last)",
      "File \u001b[1;32mc:\\Users\\asus\\miniconda3\\Lib\\site-packages\\pandas\\core\\indexes\\base.py:3805\u001b[0m, in \u001b[0;36mIndex.get_loc\u001b[1;34m(self, key)\u001b[0m\n\u001b[0;32m   3804\u001b[0m \u001b[39mtry\u001b[39;00m:\n\u001b[1;32m-> 3805\u001b[0m     \u001b[39mreturn\u001b[39;00m \u001b[39mself\u001b[39;49m\u001b[39m.\u001b[39;49m_engine\u001b[39m.\u001b[39;49mget_loc(casted_key)\n\u001b[0;32m   3806\u001b[0m \u001b[39mexcept\u001b[39;00m \u001b[39mKeyError\u001b[39;00m \u001b[39mas\u001b[39;00m err:\n",
      "File \u001b[1;32mindex.pyx:167\u001b[0m, in \u001b[0;36mpandas._libs.index.IndexEngine.get_loc\u001b[1;34m()\u001b[0m\n",
      "File \u001b[1;32mindex.pyx:196\u001b[0m, in \u001b[0;36mpandas._libs.index.IndexEngine.get_loc\u001b[1;34m()\u001b[0m\n",
      "File \u001b[1;32mpandas\\\\_libs\\\\hashtable_class_helper.pxi:7081\u001b[0m, in \u001b[0;36mpandas._libs.hashtable.PyObjectHashTable.get_item\u001b[1;34m()\u001b[0m\n",
      "File \u001b[1;32mpandas\\\\_libs\\\\hashtable_class_helper.pxi:7089\u001b[0m, in \u001b[0;36mpandas._libs.hashtable.PyObjectHashTable.get_item\u001b[1;34m()\u001b[0m\n",
      "\u001b[1;31mKeyError\u001b[0m: 'CO2_per_distance'",
      "\nThe above exception was the direct cause of the following exception:\n",
      "\u001b[1;31mKeyError\u001b[0m                                  Traceback (most recent call last)",
      "Cell \u001b[1;32mIn[4], line 1\u001b[0m\n\u001b[1;32m----> 1\u001b[0m plt\u001b[39m.\u001b[39mhist(df[\u001b[39m'\u001b[39;49m\u001b[39mCO2_per_distance\u001b[39;49m\u001b[39m'\u001b[39;49m], bins\u001b[39m=\u001b[39m\u001b[39m20\u001b[39m, color\u001b[39m=\u001b[39m\u001b[39m'\u001b[39m\u001b[39mskyblue\u001b[39m\u001b[39m'\u001b[39m, edgecolor\u001b[39m=\u001b[39m\u001b[39m'\u001b[39m\u001b[39mblack\u001b[39m\u001b[39m'\u001b[39m)\n\u001b[0;32m      3\u001b[0m \u001b[39m# Add titles and labels\u001b[39;00m\n\u001b[0;32m      4\u001b[0m plt\u001b[39m.\u001b[39mtitle(\u001b[39m'\u001b[39m\u001b[39mHistogram of CO2 per Distance\u001b[39m\u001b[39m'\u001b[39m)\n",
      "File \u001b[1;32mc:\\Users\\asus\\miniconda3\\Lib\\site-packages\\pandas\\core\\frame.py:4102\u001b[0m, in \u001b[0;36mDataFrame.__getitem__\u001b[1;34m(self, key)\u001b[0m\n\u001b[0;32m   4100\u001b[0m \u001b[39mif\u001b[39;00m \u001b[39mself\u001b[39m\u001b[39m.\u001b[39mcolumns\u001b[39m.\u001b[39mnlevels \u001b[39m>\u001b[39m \u001b[39m1\u001b[39m:\n\u001b[0;32m   4101\u001b[0m     \u001b[39mreturn\u001b[39;00m \u001b[39mself\u001b[39m\u001b[39m.\u001b[39m_getitem_multilevel(key)\n\u001b[1;32m-> 4102\u001b[0m indexer \u001b[39m=\u001b[39m \u001b[39mself\u001b[39;49m\u001b[39m.\u001b[39;49mcolumns\u001b[39m.\u001b[39;49mget_loc(key)\n\u001b[0;32m   4103\u001b[0m \u001b[39mif\u001b[39;00m is_integer(indexer):\n\u001b[0;32m   4104\u001b[0m     indexer \u001b[39m=\u001b[39m [indexer]\n",
      "File \u001b[1;32mc:\\Users\\asus\\miniconda3\\Lib\\site-packages\\pandas\\core\\indexes\\base.py:3812\u001b[0m, in \u001b[0;36mIndex.get_loc\u001b[1;34m(self, key)\u001b[0m\n\u001b[0;32m   3807\u001b[0m     \u001b[39mif\u001b[39;00m \u001b[39misinstance\u001b[39m(casted_key, \u001b[39mslice\u001b[39m) \u001b[39mor\u001b[39;00m (\n\u001b[0;32m   3808\u001b[0m         \u001b[39misinstance\u001b[39m(casted_key, abc\u001b[39m.\u001b[39mIterable)\n\u001b[0;32m   3809\u001b[0m         \u001b[39mand\u001b[39;00m \u001b[39many\u001b[39m(\u001b[39misinstance\u001b[39m(x, \u001b[39mslice\u001b[39m) \u001b[39mfor\u001b[39;00m x \u001b[39min\u001b[39;00m casted_key)\n\u001b[0;32m   3810\u001b[0m     ):\n\u001b[0;32m   3811\u001b[0m         \u001b[39mraise\u001b[39;00m InvalidIndexError(key)\n\u001b[1;32m-> 3812\u001b[0m     \u001b[39mraise\u001b[39;00m \u001b[39mKeyError\u001b[39;00m(key) \u001b[39mfrom\u001b[39;00m \u001b[39merr\u001b[39;00m\n\u001b[0;32m   3813\u001b[0m \u001b[39mexcept\u001b[39;00m \u001b[39mTypeError\u001b[39;00m:\n\u001b[0;32m   3814\u001b[0m     \u001b[39m# If we have a listlike key, _check_indexing_error will raise\u001b[39;00m\n\u001b[0;32m   3815\u001b[0m     \u001b[39m#  InvalidIndexError. Otherwise we fall through and re-raise\u001b[39;00m\n\u001b[0;32m   3816\u001b[0m     \u001b[39m#  the TypeError.\u001b[39;00m\n\u001b[0;32m   3817\u001b[0m     \u001b[39mself\u001b[39m\u001b[39m.\u001b[39m_check_indexing_error(key)\n",
      "\u001b[1;31mKeyError\u001b[0m: 'CO2_per_distance'"
     ]
    }
   ],
   "source": [
    "plt.hist(df['CO2_per_distance'], bins=20, color='skyblue', edgecolor='black')\n",
    "\n",
    "# Add titles and labels\n",
    "plt.title('Histogram of CO2 per Distance')\n",
    "plt.xlabel('CO2 per Distance')\n",
    "plt.ylabel('Frequency')\n",
    "\n",
    "# Show the plot\n",
    "plt.show()"
   ]
  },
  {
   "cell_type": "code",
   "execution_count": null,
   "metadata": {},
   "outputs": [
    {
     "data": {
      "image/png": "[encoded data removed]",
      "text/plain": [
       "<Figure size 640x480 with 1 Axes>"
      ]
     },
     "metadata": {},
     "output_type": "display_data"
    }
   ],
   "source": [
    "plt.hist(df['co2_per_distance'], bins=20, color='skyblue', edgecolor='black')\n",
    "\n",
    "# Add titles and labels\n",
    "plt.title('Histogram of CO2 per Distance')\n",
    "plt.xlabel('CO2 per Distance')\n",
    "plt.ylabel('Frequency')\n",
    "\n",
    "# Show the plot\n",
    "plt.show()"
   ]
  },
  {
   "cell_type": "code",
   "execution_count": null,
   "metadata": {},
   "outputs": [
    {
     "data": {
      "image/png": "[encoded data removed]",
      "text/plain": [
       "<Figure size 640x480 with 1 Axes>"
      ]
     },
     "metadata": {},
     "output_type": "display_data"
    }
   ],
   "source": [
    "plt.hist(df['co2_per_distance'], bins=100, color='skyblue', edgecolor='black')\n",
    "\n",
    "# Add titles and labels\n",
    "plt.title('Histogram of CO2 per Distance')\n",
    "plt.xlabel('CO2 per Distance')\n",
    "plt.ylabel('Frequency')\n",
    "\n",
    "# Show the plot\n",
    "plt.show()"
   ]
  },
  {
   "cell_type": "code",
   "execution_count": null,
   "metadata": {},
   "outputs": [],
   "source": [
    "dom_vs_intl=df.groupby('domestic')['co2_per_distance'].mean()"
   ]
  },
  {
   "cell_type": "code",
   "execution_count": null,
   "metadata": {},
   "outputs": [
    {
     "ename": "NameError",
     "evalue": "name 'dom' is not defined",
     "output_type": "error",
     "traceback": [
      "\u001b[1;31m---------------------------------------------------------------------------\u001b[0m",
      "\u001b[1;31mNameError\u001b[0m                                 Traceback (most recent call last)",
      "Cell \u001b[1;32mIn[8], line 1\u001b[0m\n\u001b[1;32m----> 1\u001b[0m dom\n",
      "\u001b[1;31mNameError\u001b[0m: name 'dom' is not defined"
     ]
    }
   ],
   "source": [
    "dom"
   ]
  }
 ],
 "metadata": {
  "kernelspec": {
   "display_name": "base",
   "language": "python",
   "name": "python3"
  },
  "language_info": {
   "codemirror_mode": {
    "name": "ipython",
    "version": 3
   },
   "file_extension": ".py",
   "mimetype": "text/x-python",
   "name": "python",
   "nbconvert_exporter": "python",
   "pygments_lexer": "ipython3",
   "version": "3.12.5"
  }
 },
 "nbformat": 4,
 "nbformat_minor": 5
}
