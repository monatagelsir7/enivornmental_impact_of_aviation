{
 "cells": [
  {
   "cell_type": "code",
   "execution_count": 4,
   "id": "df37229f",
   "metadata": {},
   "outputs": [],
   "source": [
    "import pandas as pd"
   ]
  },
  {
   "cell_type": "code",
   "execution_count": 5,
   "id": "58bd42c5",
   "metadata": {},
   "outputs": [],
   "source": [
    "# load data\n",
    "df=pd.read_parquet(\"https://github.com/monatagelsir7/enivornmental_impact_of_aviation/raw/refs/heads/main/cleaned_aviation_data_v1.parquet\")"
   ]
  },
  {
   "cell_type": "code",
   "execution_count": 6,
   "id": "0abe4cff",
   "metadata": {},
   "outputs": [
    {
     "data": {
      "text/plain": [
       "departure_continent\n",
       "NA    125568\n",
       "EU    103970\n",
       "AS     36554\n",
       "AF     10655\n",
       "SA      5722\n",
       "OC      3607\n",
       "Name: count, dtype: int64"
      ]
     },
     "execution_count": 6,
     "metadata": {},
     "output_type": "execute_result"
    }
   ],
   "source": [
    "# explore dataset\n",
    "df[\"departure_continent\"].value_counts()"
   ]
  },
  {
   "cell_type": "code",
   "execution_count": 7,
   "id": "b33710c2",
   "metadata": {},
   "outputs": [
    {
     "name": "stdout",
     "output_type": "stream",
     "text": [
      "Index(['ES', 'US', 'EG', 'KZ', 'CO', 'RU', 'TR'], dtype='object', name='departure_country')\n"
     ]
    },
    {
     "data": {
      "application/vnd.microsoft.datawrangler.viewer.v0+json": {
       "columns": [
        {
         "name": "index",
         "rawType": "int64",
         "type": "integer"
        },
        {
         "name": "departure_continent",
         "rawType": "object",
         "type": "string"
        },
        {
         "name": "departure_country",
         "rawType": "object",
         "type": "string"
        }
       ],
       "conversionMethod": "pd.DataFrame",
       "ref": "566495d5-d6a6-4f23-a59c-0276480d7206",
       "rows": [
        [
         "2322",
         "SA",
         "CO"
        ],
        [
         "252811",
         "NA",
         "CO"
        ],
        [
         "2867",
         "AF",
         "EG"
        ],
        [
         "77502",
         "AS",
         "EG"
        ],
        [
         "80",
         "AF",
         "ES"
        ],
        [
         "226",
         "EU",
         "ES"
        ],
        [
         "18684",
         "AS",
         "KZ"
        ],
        [
         "34723",
         "EU",
         "KZ"
        ],
        [
         "286",
         "EU",
         "RU"
        ],
        [
         "24300",
         "AS",
         "RU"
        ],
        [
         "90",
         "AS",
         "TR"
        ],
        [
         "433",
         "EU",
         "TR"
        ],
        [
         "2",
         "OC",
         "US"
        ],
        [
         "10",
         "NA",
         "US"
        ]
       ],
       "shape": {
        "columns": 2,
        "rows": 14
       }
      },
      "text/html": [
       "<div>\n",
       "<style scoped>\n",
       "    .dataframe tbody tr th:only-of-type {\n",
       "        vertical-align: middle;\n",
       "    }\n",
       "\n",
       "    .dataframe tbody tr th {\n",
       "        vertical-align: top;\n",
       "    }\n",
       "\n",
       "    .dataframe thead th {\n",
       "        text-align: right;\n",
       "    }\n",
       "</style>\n",
       "<table border=\"1\" class=\"dataframe\">\n",
       "  <thead>\n",
       "    <tr style=\"text-align: right;\">\n",
       "      <th></th>\n",
       "      <th>departure_continent</th>\n",
       "      <th>departure_country</th>\n",
       "    </tr>\n",
       "  </thead>\n",
       "  <tbody>\n",
       "    <tr>\n",
       "      <th>2322</th>\n",
       "      <td>SA</td>\n",
       "      <td>CO</td>\n",
       "    </tr>\n",
       "    <tr>\n",
       "      <th>252811</th>\n",
       "      <td>NA</td>\n",
       "      <td>CO</td>\n",
       "    </tr>\n",
       "    <tr>\n",
       "      <th>2867</th>\n",
       "      <td>AF</td>\n",
       "      <td>EG</td>\n",
       "    </tr>\n",
       "    <tr>\n",
       "      <th>77502</th>\n",
       "      <td>AS</td>\n",
       "      <td>EG</td>\n",
       "    </tr>\n",
       "    <tr>\n",
       "      <th>80</th>\n",
       "      <td>AF</td>\n",
       "      <td>ES</td>\n",
       "    </tr>\n",
       "    <tr>\n",
       "      <th>226</th>\n",
       "      <td>EU</td>\n",
       "      <td>ES</td>\n",
       "    </tr>\n",
       "    <tr>\n",
       "      <th>18684</th>\n",
       "      <td>AS</td>\n",
       "      <td>KZ</td>\n",
       "    </tr>\n",
       "    <tr>\n",
       "      <th>34723</th>\n",
       "      <td>EU</td>\n",
       "      <td>KZ</td>\n",
       "    </tr>\n",
       "    <tr>\n",
       "      <th>286</th>\n",
       "      <td>EU</td>\n",
       "      <td>RU</td>\n",
       "    </tr>\n",
       "    <tr>\n",
       "      <th>24300</th>\n",
       "      <td>AS</td>\n",
       "      <td>RU</td>\n",
       "    </tr>\n",
       "    <tr>\n",
       "      <th>90</th>\n",
       "      <td>AS</td>\n",
       "      <td>TR</td>\n",
       "    </tr>\n",
       "    <tr>\n",
       "      <th>433</th>\n",
       "      <td>EU</td>\n",
       "      <td>TR</td>\n",
       "    </tr>\n",
       "    <tr>\n",
       "      <th>2</th>\n",
       "      <td>OC</td>\n",
       "      <td>US</td>\n",
       "    </tr>\n",
       "    <tr>\n",
       "      <th>10</th>\n",
       "      <td>NA</td>\n",
       "      <td>US</td>\n",
       "    </tr>\n",
       "  </tbody>\n",
       "</table>\n",
       "</div>"
      ],
      "text/plain": [
       "       departure_continent departure_country\n",
       "2322                    SA                CO\n",
       "252811                  NA                CO\n",
       "2867                    AF                EG\n",
       "77502                   AS                EG\n",
       "80                      AF                ES\n",
       "226                     EU                ES\n",
       "18684                   AS                KZ\n",
       "34723                   EU                KZ\n",
       "286                     EU                RU\n",
       "24300                   AS                RU\n",
       "90                      AS                TR\n",
       "433                     EU                TR\n",
       "2                       OC                US\n",
       "10                      NA                US"
      ]
     },
     "execution_count": 7,
     "metadata": {},
     "output_type": "execute_result"
    }
   ],
   "source": [
    "# For Departures\n",
    "a=df[[\"departure_continent\",\"departure_country\"]].drop_duplicates()\n",
    "a[\"departure_country\"].value_counts()\n",
    "\n",
    "two_counts = a[\"departure_country\"].value_counts()\n",
    "indices_with_two = two_counts[two_counts == 2].index\n",
    "print(indices_with_two)\n",
    "a[a[\"departure_country\"].isin(indices_with_two)].sort_values(by=\"departure_country\")"
   ]
  },
  {
   "cell_type": "code",
   "execution_count": 8,
   "id": "ca7b495f",
   "metadata": {},
   "outputs": [
    {
     "name": "stdout",
     "output_type": "stream",
     "text": [
      "Index(['ES', 'US', 'EG', 'KZ', 'CO', 'RU', 'TR'], dtype='object', name='arrival_country')\n"
     ]
    }
   ],
   "source": [
    "# For Arrivals\n",
    "b=df[[\"arrival_continent\",\"arrival_country\"]].drop_duplicates()\n",
    "b[\"arrival_country\"].value_counts()\n",
    "\n",
    "two_counts = b[\"arrival_country\"].value_counts()\n",
    "indices_with_two = two_counts[two_counts == 2].index\n",
    "print(indices_with_two)\n",
    "b[b[\"arrival_country\"].isin(indices_with_two)].sort_values(by=\"arrival_country\")\n",
    "\n",
    "\n",
    "\n",
    "updated_country_to_continent={\"EG\":\"AF\",\"ES\":\"EU\",\"KZ\":\"AS\",\"RU\":\"EU\",\"TR\":\"AS\",\"CO\":\"SA\",\"US\":\"NA\",}\n",
    "df.loc[df[\"departure_country\"].isin(updated_country_to_continent.keys()), \"departure_continent\"] = df[\"departure_country\"].map(updated_country_to_continent)"
   ]
  }
 ],
 "metadata": {
  "kernelspec": {
   "display_name": "base",
   "language": "python",
   "name": "python3"
  },
  "language_info": {
   "codemirror_mode": {
    "name": "ipython",
    "version": 3
   },
   "file_extension": ".py",
   "mimetype": "text/x-python",
   "name": "python",
   "nbconvert_exporter": "python",
   "pygments_lexer": "ipython3",
   "version": "3.12.7"
  }
 },
 "nbformat": 4,
 "nbformat_minor": 5
}
