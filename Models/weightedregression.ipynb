{
 "cells": [
  {
   "cell_type": "code",
   "execution_count": 13,
   "id": "1f5f7127",
   "metadata": {},
   "outputs": [],
   "source": [
    "import pandas as pd\n",
    "import numpy as np\n",
    "\n",
    "pd.set_option(\"mode.copy_on_write\", True)\n",
    "\n",
    "## Load Data Sets\n",
    "compressed_df = pd.read_parquet(\n",
    "    r\"C:\\Users\\DELL\\Downloads\\ML Project\\enivornmental_impact_of_aviation\\compressed_aviation_traffic_data.parquet\"\n",
    ")\n",
    "v4 = pd.read_parquet(\n",
    "    r\"C:\\Users\\DELL\\Downloads\\ML Project\\enivornmental_impact_of_aviation\\cleaned_aviation_data_with_outliers_v4.parquet\"\n",
    ")\n",
    "v3 = pd.read_parquet(\n",
    "    r\"C:\\Users\\DELL\\Downloads\\ML Project\\enivornmental_impact_of_aviation\\cleaned_aviation_data_v3.parquet\"\n",
    ")\n",
    "v2 = pd.read_parquet(\n",
    "    r\"C:\\Users\\DELL\\Downloads\\ML Project\\enivornmental_impact_of_aviation\\cleaned_aviation_data_v2.parquet\"\n",
    ")\n",
    "v1 = pd.read_parquet(\n",
    "    r\"C:\\Users\\DELL\\Downloads\\ML Project\\enivornmental_impact_of_aviation\\cleaned_aviation_data_v1.parquet\"\n",
    ")"
   ]
  },
  {
   "cell_type": "code",
   "execution_count": 14,
   "id": "cb66eb3a",
   "metadata": {},
   "outputs": [],
   "source": [
    "compressed_df = compressed_df[compressed_df[\"seats\"] > 0]  # Avoid divide-by-zero\n",
    "# creating a new variable (fuel per seat)\n",
    "compressed_df[\"fuel_per_seat\"] = compressed_df[\"fuel_burn\"] / compressed_df[\"seats\"]\n",
    "compressed_df[\"d\"] = compressed_df[\"distance_km\"]\n",
    "compressed_df[\"d2\"] = compressed_df[\"d\"] ** 2\n",
    "compressed_df[\"d3\"] = compressed_df[\"d\"] ** 3\n",
    "df_model = compressed_df[[\"fuel_per_seat\", \"d\", \"d2\", \"d3\"]].dropna()\n",
    "X = df_model[[\"d\", \"d2\", \"d3\"]]\n",
    "y = df_model[\"fuel_per_seat\"]"
   ]
  },
  {
   "cell_type": "code",
   "execution_count": 15,
   "id": "e38a7074",
   "metadata": {},
   "outputs": [
    {
     "name": "stdout",
     "output_type": "stream",
     "text": [
      "R²: 0.0148\n",
      "MSE: 544227.7876\n"
     ]
    }
   ],
   "source": [
    "from sklearn.linear_model import LinearRegression\n",
    "from sklearn.metrics import r2_score, mean_squared_error\n",
    "\n",
    "model = LinearRegression()\n",
    "model.fit(X, y)\n",
    "y_pred = model.predict(X)\n",
    "\n",
    "r2 = r2_score(y, y_pred)\n",
    "mse = mean_squared_error(y, y_pred)\n",
    "# msfe = mean_squared_error(y, y_pred, squared=False)\n",
    "\n",
    "print(f\"R²: {r2:.4f}\")\n",
    "print(f\"MSE: {mse:.4f}\")\n",
    "# print(f\"MSFE (RMSE): {msfe:.4f}\")"
   ]
  },
  {
   "cell_type": "code",
   "execution_count": 16,
   "id": "7c8ee480",
   "metadata": {},
   "outputs": [
    {
     "name": "stdout",
     "output_type": "stream",
     "text": [
      "[Manual Coefficients] R²: 0.0086, MSE: 547673.9897\n"
     ]
    }
   ],
   "source": [
    "compressed_df[\"manual_pred\"] = (\n",
    "    9.07\n",
    "    + 1.65e-2 * compressed_df[\"d\"]\n",
    "    + 9.43e-7 * compressed_df[\"d2\"]\n",
    "    - 4.76e-12 * compressed_df[\"d3\"]\n",
    ")\n",
    "r2_manual = r2_score(y, compressed_df[\"manual_pred\"])\n",
    "mse_manual = mean_squared_error(y, compressed_df[\"manual_pred\"])\n",
    "# rmse_manual = mean_squared_error(y, df['manual_pred'], squared=False)\n",
    "\n",
    "print(f\"[Manual Coefficients] R²: {r2_manual:.4f}, MSE: {mse_manual:.4f}\")"
   ]
  },
  {
   "cell_type": "markdown",
   "id": "caedb0fe",
   "metadata": {},
   "source": [
    "### Weighted Regression for V4"
   ]
  },
  {
   "cell_type": "code",
   "execution_count": 17,
   "id": "8189fb6b",
   "metadata": {},
   "outputs": [
    {
     "name": "stdout",
     "output_type": "stream",
     "text": [
      "R²: 0.0147\n",
      "MSE: 551947.3377\n",
      "[Manual Coefficients] R²: 0.0085, MSE: 555441.6309\n"
     ]
    }
   ],
   "source": [
    "v4 = v4[v4[\"seats\"] > 0]\n",
    "# creating a new variable (fuel per seat)\n",
    "v4[\"fuel_per_seat\"] = v4[\"fuel_burn\"] / v4[\"seats\"]\n",
    "v4[\"d\"] = v4[\"distance_km\"]\n",
    "v4[\"d2\"] = v4[\"d\"] ** 2\n",
    "v4[\"d3\"] = v4[\"d\"] ** 3\n",
    "df_model = v4[[\"fuel_per_seat\", \"d\", \"d2\", \"d3\"]].dropna()\n",
    "X = df_model[[\"d\", \"d2\", \"d3\"]]\n",
    "y = df_model[\"fuel_per_seat\"]\n",
    "model = LinearRegression()\n",
    "model.fit(X, y)\n",
    "y_pred = model.predict(X)\n",
    "r2 = r2_score(y, y_pred)\n",
    "mse = mean_squared_error(y, y_pred)\n",
    "print(f\"R²: {r2:.4f}\")\n",
    "print(f\"MSE: {mse:.4f}\")\n",
    "v4[\"manual_pred\"] = 9.07 + 1.65e-2 * v4[\"d\"] + 9.43e-7 * v4[\"d2\"] - 4.76e-12 * v4[\"d3\"]\n",
    "r2_manual = r2_score(y, v4[\"manual_pred\"])\n",
    "mse_manual = mean_squared_error(y, v4[\"manual_pred\"])\n",
    "print(f\"[Manual Coefficients] R²: {r2_manual:.4f}, MSE: {mse_manual:.4f}\")"
   ]
  },
  {
   "cell_type": "markdown",
   "id": "67fe57a3",
   "metadata": {},
   "source": [
    "### Weighted Regression for v3"
   ]
  },
  {
   "cell_type": "code",
   "execution_count": 18,
   "id": "fff6aba3",
   "metadata": {},
   "outputs": [
    {
     "name": "stdout",
     "output_type": "stream",
     "text": [
      "R²: 0.0147\n",
      "MSE: 551947.3377\n",
      "[Manual Coefficients] R²: 0.0085, MSE: 555441.6309\n"
     ]
    }
   ],
   "source": [
    "v3 = v3[v3[\"seats\"] > 0]\n",
    "# creating a new variable (fuel per seat)\n",
    "v3[\"fuel_per_seat\"] = v3[\"fuel_burn\"] / v3[\"seats\"]\n",
    "v3[\"d\"] = v3[\"distance_km\"]\n",
    "v3[\"d2\"] = v3[\"d\"] ** 2\n",
    "v3[\"d3\"] = v3[\"d\"] ** 3\n",
    "df_model = v3[[\"fuel_per_seat\", \"d\", \"d2\", \"d3\"]].dropna()\n",
    "X = df_model[[\"d\", \"d2\", \"d3\"]]\n",
    "y = df_model[\"fuel_per_seat\"]\n",
    "model = LinearRegression()\n",
    "model.fit(X, y)\n",
    "y_pred = model.predict(X)\n",
    "r2 = r2_score(y, y_pred)\n",
    "mse = mean_squared_error(y, y_pred)\n",
    "print(f\"R²: {r2:.4f}\")\n",
    "print(f\"MSE: {mse:.4f}\")\n",
    "v3[\"manual_pred\"] = 9.07 + 1.65e-2 * v3[\"d\"] + 9.43e-7 * v3[\"d2\"] - 4.76e-12 * v3[\"d3\"]\n",
    "r2_manual = r2_score(y, v3[\"manual_pred\"])\n",
    "mse_manual = mean_squared_error(y, v3[\"manual_pred\"])\n",
    "print(f\"[Manual Coefficients] R²: {r2_manual:.4f}, MSE: {mse_manual:.4f}\")"
   ]
  },
  {
   "cell_type": "markdown",
   "id": "e0820bc8",
   "metadata": {},
   "source": [
    "### Weighted Regression for v2"
   ]
  },
  {
   "cell_type": "code",
   "execution_count": 19,
   "id": "aa28cd96",
   "metadata": {},
   "outputs": [
    {
     "name": "stdout",
     "output_type": "stream",
     "text": [
      "R²: 0.0147\n",
      "MSE: 551947.3377\n",
      "[Manual Coefficients] R²: 0.0085, MSE: 555441.6309\n"
     ]
    }
   ],
   "source": [
    "v2 = v2[v2[\"seats\"] > 0]\n",
    "# creating a new variable (fuel per seat)\n",
    "v2[\"fuel_per_seat\"] = v2[\"fuel_burn\"] / v2[\"seats\"]\n",
    "v2[\"d\"] = v2[\"distance_km\"]\n",
    "v2[\"d2\"] = v2[\"d\"] ** 2\n",
    "v2[\"d3\"] = v2[\"d\"] ** 3\n",
    "df_model = v2[[\"fuel_per_seat\", \"d\", \"d2\", \"d3\"]].dropna()\n",
    "X = df_model[[\"d\", \"d2\", \"d3\"]]\n",
    "y = df_model[\"fuel_per_seat\"]\n",
    "model = LinearRegression()\n",
    "model.fit(X, y)\n",
    "y_pred = model.predict(X)\n",
    "r2 = r2_score(y, y_pred)\n",
    "mse = mean_squared_error(y, y_pred)\n",
    "print(f\"R²: {r2:.4f}\")\n",
    "print(f\"MSE: {mse:.4f}\")\n",
    "v2[\"manual_pred\"] = 9.07 + 1.65e-2 * v2[\"d\"] + 9.43e-7 * v2[\"d2\"] - 4.76e-12 * v2[\"d3\"]\n",
    "r2_manual = r2_score(y, v2[\"manual_pred\"])\n",
    "mse_manual = mean_squared_error(y, v2[\"manual_pred\"])\n",
    "print(f\"[Manual Coefficients] R²: {r2_manual:.4f}, MSE: {mse_manual:.4f}\")"
   ]
  },
  {
   "cell_type": "markdown",
   "id": "a9c6702f",
   "metadata": {},
   "source": [
    "### Weighted Regression for v1"
   ]
  },
  {
   "cell_type": "code",
   "execution_count": 20,
   "id": "59d70658",
   "metadata": {},
   "outputs": [
    {
     "name": "stdout",
     "output_type": "stream",
     "text": [
      "R²: 0.0147\n",
      "MSE: 551947.3377\n",
      "[Manual Coefficients] R²: 0.0085, MSE: 555441.6309\n"
     ]
    }
   ],
   "source": [
    "v1 = v1[v1[\"seats\"] > 0]\n",
    "# creating a new variable (fuel per seat)\n",
    "v1[\"fuel_per_seat\"] = v1[\"fuel_burn\"] / v1[\"seats\"]\n",
    "v1[\"d\"] = v1[\"distance_km\"]\n",
    "v1[\"d2\"] = v1[\"d\"] ** 2\n",
    "v1[\"d3\"] = v1[\"d\"] ** 3\n",
    "df_model = v1[[\"fuel_per_seat\", \"d\", \"d2\", \"d3\"]].dropna()\n",
    "X = df_model[[\"d\", \"d2\", \"d3\"]]\n",
    "y = df_model[\"fuel_per_seat\"]\n",
    "model = LinearRegression()\n",
    "model.fit(X, y)\n",
    "y_pred = model.predict(X)\n",
    "r2 = r2_score(y, y_pred)\n",
    "mse = mean_squared_error(y, y_pred)\n",
    "print(f\"R²: {r2:.4f}\")\n",
    "print(f\"MSE: {mse:.4f}\")\n",
    "v1[\"manual_pred\"] = 9.07 + 1.65e-2 * v1[\"d\"] + 9.43e-7 * v1[\"d2\"] - 4.76e-12 * v1[\"d3\"]\n",
    "r2_manual = r2_score(y, v1[\"manual_pred\"])\n",
    "mse_manual = mean_squared_error(y, v1[\"manual_pred\"])\n",
    "print(f\"[Manual Coefficients] R²: {r2_manual:.4f}, MSE: {mse_manual:.4f}\")"
   ]
  }
 ],
 "metadata": {
  "kernelspec": {
   "display_name": "base",
   "language": "python",
   "name": "python3"
  },
  "language_info": {
   "codemirror_mode": {
    "name": "ipython",
    "version": 3
   },
   "file_extension": ".py",
   "mimetype": "text/x-python",
   "name": "python",
   "nbconvert_exporter": "python",
   "pygments_lexer": "ipython3",
   "version": "3.12.3"
  }
 },
 "nbformat": 4,
 "nbformat_minor": 5
}
