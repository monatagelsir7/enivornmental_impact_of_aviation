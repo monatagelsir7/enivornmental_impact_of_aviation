{
 "cells": [
  {
   "cell_type": "markdown",
   "id": "fcceee53",
   "metadata": {},
   "source": [
    "### Aggrigated Co2 emission (kg) by Continents"
   ]
  },
  {
   "cell_type": "code",
   "execution_count": 1,
   "id": "6da9d21b",
   "metadata": {},
   "outputs": [],
   "source": [
    "import pandas as pd\n",
    "import matplotlib.pyplot as plt\n",
    "import plotly.express as px\n",
    "\n",
    "df = pd.read_parquet(\"https://github.com/monatagelsir7/enivornmental_impact_of_aviation/raw/refs/heads/main/cleaned_aviation_data_v3.parquet\")"
   ]
  },
  {
   "cell_type": "code",
   "execution_count": 2,
   "id": "027165d7",
   "metadata": {},
   "outputs": [
    {
     "data": {
      "application/vnd.microsoft.datawrangler.viewer.v0+json": {
       "columns": [
        {
         "name": "index",
         "rawType": "int64",
         "type": "integer"
        },
        {
         "name": "departure_continent",
         "rawType": "object",
         "type": "string"
        },
        {
         "name": "arrival_continent",
         "rawType": "object",
         "type": "string"
        },
        {
         "name": "co2_per_distance",
         "rawType": "float64",
         "type": "float"
        },
        {
         "name": "domestic",
         "rawType": "int64",
         "type": "integer"
        }
       ],
       "conversionMethod": "pd.DataFrame",
       "ref": "2e138bf3-31d4-4a3e-8515-0e8883834639",
       "rows": [
        [
         "282843",
         "AS",
         "AS",
         "43.9757530478855",
         "0"
        ],
        [
         "42947",
         "EU",
         "EU",
         "726.6418908667254",
         "1"
        ],
        [
         "81936",
         "NA",
         "NA",
         "333.3714709655834",
         "0"
        ],
        [
         "136656",
         "AF",
         "AF",
         "31.081001787834303",
         "0"
        ],
        [
         "247639",
         "NA",
         "NA",
         "1.7286981416273497",
         "1"
        ],
        [
         "3223",
         "NA",
         "NA",
         "14588.24421850379",
         "1"
        ],
        [
         "112204",
         "AF",
         "NA",
         "127.0230433631611",
         "0"
        ],
        [
         "190437",
         "NA",
         "NA",
         "10.681172359301904",
         "1"
        ],
        [
         "182612",
         "NA",
         "NA",
         "20.194611297591823",
         "1"
        ],
        [
         "270664",
         "AS",
         "AS",
         "912.0066440826284",
         "1"
        ]
       ],
       "shape": {
        "columns": 4,
        "rows": 10
       }
      },
      "text/html": [
       "<div>\n",
       "<style scoped>\n",
       "    .dataframe tbody tr th:only-of-type {\n",
       "        vertical-align: middle;\n",
       "    }\n",
       "\n",
       "    .dataframe tbody tr th {\n",
       "        vertical-align: top;\n",
       "    }\n",
       "\n",
       "    .dataframe thead th {\n",
       "        text-align: right;\n",
       "    }\n",
       "</style>\n",
       "<table border=\"1\" class=\"dataframe\">\n",
       "  <thead>\n",
       "    <tr style=\"text-align: right;\">\n",
       "      <th></th>\n",
       "      <th>departure_continent</th>\n",
       "      <th>arrival_continent</th>\n",
       "      <th>co2_per_distance</th>\n",
       "      <th>domestic</th>\n",
       "    </tr>\n",
       "  </thead>\n",
       "  <tbody>\n",
       "    <tr>\n",
       "      <th>282843</th>\n",
       "      <td>AS</td>\n",
       "      <td>AS</td>\n",
       "      <td>43.975753</td>\n",
       "      <td>0</td>\n",
       "    </tr>\n",
       "    <tr>\n",
       "      <th>42947</th>\n",
       "      <td>EU</td>\n",
       "      <td>EU</td>\n",
       "      <td>726.641891</td>\n",
       "      <td>1</td>\n",
       "    </tr>\n",
       "    <tr>\n",
       "      <th>81936</th>\n",
       "      <td>NA</td>\n",
       "      <td>NA</td>\n",
       "      <td>333.371471</td>\n",
       "      <td>0</td>\n",
       "    </tr>\n",
       "    <tr>\n",
       "      <th>136656</th>\n",
       "      <td>AF</td>\n",
       "      <td>AF</td>\n",
       "      <td>31.081002</td>\n",
       "      <td>0</td>\n",
       "    </tr>\n",
       "    <tr>\n",
       "      <th>247639</th>\n",
       "      <td>NA</td>\n",
       "      <td>NA</td>\n",
       "      <td>1.728698</td>\n",
       "      <td>1</td>\n",
       "    </tr>\n",
       "    <tr>\n",
       "      <th>3223</th>\n",
       "      <td>NA</td>\n",
       "      <td>NA</td>\n",
       "      <td>14588.244219</td>\n",
       "      <td>1</td>\n",
       "    </tr>\n",
       "    <tr>\n",
       "      <th>112204</th>\n",
       "      <td>AF</td>\n",
       "      <td>NA</td>\n",
       "      <td>127.023043</td>\n",
       "      <td>0</td>\n",
       "    </tr>\n",
       "    <tr>\n",
       "      <th>190437</th>\n",
       "      <td>NA</td>\n",
       "      <td>NA</td>\n",
       "      <td>10.681172</td>\n",
       "      <td>1</td>\n",
       "    </tr>\n",
       "    <tr>\n",
       "      <th>182612</th>\n",
       "      <td>NA</td>\n",
       "      <td>NA</td>\n",
       "      <td>20.194611</td>\n",
       "      <td>1</td>\n",
       "    </tr>\n",
       "    <tr>\n",
       "      <th>270664</th>\n",
       "      <td>AS</td>\n",
       "      <td>AS</td>\n",
       "      <td>912.006644</td>\n",
       "      <td>1</td>\n",
       "    </tr>\n",
       "  </tbody>\n",
       "</table>\n",
       "</div>"
      ],
      "text/plain": [
       "       departure_continent arrival_continent  co2_per_distance  domestic\n",
       "282843                  AS                AS         43.975753         0\n",
       "42947                   EU                EU        726.641891         1\n",
       "81936                   NA                NA        333.371471         0\n",
       "136656                  AF                AF         31.081002         0\n",
       "247639                  NA                NA          1.728698         1\n",
       "3223                    NA                NA      14588.244219         1\n",
       "112204                  AF                NA        127.023043         0\n",
       "190437                  NA                NA         10.681172         1\n",
       "182612                  NA                NA         20.194611         1\n",
       "270664                  AS                AS        912.006644         1"
      ]
     },
     "execution_count": 2,
     "metadata": {},
     "output_type": "execute_result"
    }
   ],
   "source": [
    "df= df[['departure_continent', 'arrival_continent', 'co2_per_distance', 'domestic']]\n",
    "df.sample(10)"
   ]
  },
  {
   "cell_type": "code",
   "execution_count": 3,
   "id": "2c414a63",
   "metadata": {},
   "outputs": [
    {
     "name": "stdout",
     "output_type": "stream",
     "text": [
      "  departure_continent  co2_per_distance\n",
      "0                  AF      1.503637e+07\n",
      "1                  AS      2.074052e+08\n",
      "2                  EU      1.153271e+08\n",
      "3                  NA      1.351073e+08\n",
      "4                  OC      1.437581e+07\n",
      "5                  SA      2.766717e+07\n",
      "  arrival_continent  co2_per_distance\n",
      "0                AF      1.503637e+07\n",
      "1                AS      2.074052e+08\n",
      "2                EU      1.153271e+08\n",
      "3                NA      1.351073e+08\n",
      "4                OC      1.437581e+07\n",
      "5                SA      2.766717e+07\n"
     ]
    }
   ],
   "source": [
    "\n",
    "emissions_by_departure = df.groupby('departure_continent')['co2_per_distance'].sum().reset_index()\n",
    "emissions_by_arrival = df.groupby('arrival_continent')['co2_per_distance'].sum().reset_index()\n",
    "\n",
    "print(emissions_by_departure)\n",
    "print(emissions_by_arrival)\n"
   ]
  },
  {
   "cell_type": "code",
   "execution_count": 4,
   "id": "bff8198a",
   "metadata": {},
   "outputs": [
    {
     "name": "stdout",
     "output_type": "stream",
     "text": [
      "International - CO₂ Emissions by Departure Continent:\n",
      "  departure_continent  co2_per_distance\n",
      "0                  AF      8.961924e+06\n",
      "1                  AS      7.290917e+07\n",
      "2                  EU      7.916991e+07\n",
      "3                  NA      2.506492e+07\n",
      "4                  OC      3.278360e+06\n",
      "5                  SA      4.470839e+06\n",
      "International - CO₂ Emissions by Arrival Continent:\n",
      "  arrival_continent  co2_per_distance\n",
      "0                AF      8.961924e+06\n",
      "1                AS      7.290917e+07\n",
      "2                EU      7.916991e+07\n",
      "3                NA      2.506492e+07\n",
      "4                OC      3.278360e+06\n",
      "5                SA      4.470839e+06\n"
     ]
    }
   ],
   "source": [
    "# 1. Filter only domestic flights\n",
    "df_domestic = df[df['domestic'] == 0]\n",
    "\n",
    "# 2. Group by departure continent (for domestic flights)\n",
    "emissions_by_departure_domestic = df_domestic.groupby('departure_continent')['co2_per_distance'].sum().reset_index()\n",
    "\n",
    "# 3. Group by arrival continent (for domestic flights)\n",
    "emissions_by_arrival_domestic = df_domestic.groupby('arrival_continent')['co2_per_distance'].sum().reset_index()\n",
    "\n",
    "# 4. Print results\n",
    "print(\"International - CO₂ Emissions by Departure Continent:\")\n",
    "print(emissions_by_departure_domestic)\n",
    "\n",
    "print(\"International - CO₂ Emissions by Arrival Continent:\")\n",
    "print(emissions_by_arrival_domestic)\n"
   ]
  },
  {
   "cell_type": "code",
   "execution_count": 5,
   "id": "ec2a9073",
   "metadata": {},
   "outputs": [
    {
     "data": {
      "image/png": "[encoded data removed]",
      "text/plain": [
       "<Figure size 1000x600 with 1 Axes>"
      ]
     },
     "metadata": {},
     "output_type": "display_data"
    }
   ],
   "source": [
    "import pandas as pd\n",
    "import matplotlib.pyplot as plt\n",
    "\n",
    "# 1. Prepare emissions\n",
    "emissions_by_departure = df.groupby('departure_continent')['co2_per_distance'].sum().reset_index()\n",
    "emissions_by_arrival = df.groupby('arrival_continent')['co2_per_distance'].sum().reset_index()\n",
    "\n",
    "# 2. Merge them into one DataFrame\n",
    "emissions_combined = pd.merge(\n",
    "    emissions_by_departure, \n",
    "    emissions_by_arrival, \n",
    "    left_on='departure_continent', \n",
    "    right_on='arrival_continent', \n",
    "    how='outer', \n",
    "    suffixes=('_departure', '_arrival')\n",
    ")\n",
    "\n",
    "# 3. Fill missing values with 0 (if any)\n",
    "emissions_combined = emissions_combined.fillna(0)\n",
    "\n",
    "# 4. Use one common 'continent' column\n",
    "emissions_combined['continent'] = emissions_combined['departure_continent'].combine_first(emissions_combined['arrival_continent'])\n",
    "\n",
    "# 5. Sort for nicer visualization\n",
    "emissions_combined = emissions_combined.sort_values('co2_per_distance_departure', ascending=True)\n",
    "\n",
    "# 6. Plot\n",
    "plt.figure(figsize=(10, 6))\n",
    "bar_width = 0.4\n",
    "index = range(len(emissions_combined))\n",
    "\n",
    "# Departure bars\n",
    "plt.barh(\n",
    "    [i - bar_width/2 for i in index], \n",
    "    emissions_combined['co2_per_distance_departure'], \n",
    "    height=bar_width, \n",
    "    label='Departure CO₂ Emissions'\n",
    ")\n",
    "\n",
    "# Arrival bars\n",
    "plt.barh(\n",
    "    [i + bar_width/2 for i in index], \n",
    "    emissions_combined['co2_per_distance_arrival'], \n",
    "    height=bar_width, \n",
    "    label='Arrival CO₂ Emissions'\n",
    ")\n",
    "\n",
    "plt.yticks(index, emissions_combined['continent'])\n",
    "plt.xlabel('Total CO₂ Emissions (kg)', fontsize=14)\n",
    "plt.title('Total CO₂ Emissions by Continent (Departure vs Arrival)', fontsize=16)\n",
    "plt.legend()\n",
    "plt.grid(axis='x', linestyle='--', alpha=0.7)\n",
    "plt.tight_layout()\n",
    "plt.show()\n"
   ]
  }
 ],
 "metadata": {
  "kernelspec": {
   "display_name": "base",
   "language": "python",
   "name": "python3"
  },
  "language_info": {
   "codemirror_mode": {
    "name": "ipython",
    "version": 3
   },
   "file_extension": ".py",
   "mimetype": "text/x-python",
   "name": "python",
   "nbconvert_exporter": "python",
   "pygments_lexer": "ipython3",
   "version": "3.12.7"
  }
 },
 "nbformat": 4,
 "nbformat_minor": 5
}
