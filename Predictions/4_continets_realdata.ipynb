{
 "cells": [
  {
   "cell_type": "markdown",
   "id": "fcceee53",
   "metadata": {},
   "source": [
    "### Aggrigated Co2 emission (kg) by Continents"
   ]
  },
  {
   "cell_type": "code",
   "execution_count": null,
   "id": "6da9d21b",
   "metadata": {},
   "outputs": [],
   "source": [
    "import pandas as pd\n",
    "import matplotlib.pyplot as plt\n",
    "import plotly.express as px\n",
    "\n",
    "df = pd.read_parquet(\"https://github.com/monatagelsir7/enivornmental_impact_of_aviation/raw/refs/heads/main/cleaned_aviation_data_v3.parquet\")"
   ]
  },
  {
   "cell_type": "code",
   "execution_count": 38,
   "id": "027165d7",
   "metadata": {},
   "outputs": [
    {
     "data": {
      "application/vnd.microsoft.datawrangler.viewer.v0+json": {
       "columns": [
        {
         "name": "index",
         "rawType": "int64",
         "type": "integer"
        },
        {
         "name": "departure_continent",
         "rawType": "object",
         "type": "string"
        },
        {
         "name": "arrival_continent",
         "rawType": "object",
         "type": "string"
        },
        {
         "name": "co2_per_distance",
         "rawType": "float64",
         "type": "float"
        },
        {
         "name": "domestic",
         "rawType": "int64",
         "type": "integer"
        }
       ],
       "conversionMethod": "pd.DataFrame",
       "ref": "ace55df3-cf13-4c30-8a5e-07aad4fc0eef",
       "rows": [
        [
         "101670",
         "EU",
         "EU",
         "130.1339743256901",
         "0"
        ],
        [
         "112831",
         "NA",
         "NA",
         "41.90836906603271",
         "1"
        ],
        [
         "96466",
         "EU",
         "EU",
         "78.80498293033538",
         "1"
        ],
        [
         "13667",
         "EU",
         "EU",
         "4179.994615556748",
         "0"
        ],
        [
         "257841",
         "AS",
         "AS",
         "4947.2550145984205",
         "1"
        ],
        [
         "285622",
         "SA",
         "SA",
         "7.50621563395097",
         "1"
        ],
        [
         "56609",
         "NA",
         "NA",
         "644.4175549848278",
         "1"
        ],
        [
         "130770",
         "EU",
         "EU",
         "41.77128280903562",
         "0"
        ],
        [
         "160367",
         "EU",
         "EU",
         "18.4986746187772",
         "0"
        ],
        [
         "59810",
         "EU",
         "EU",
         "751.1181121883338",
         "0"
        ]
       ],
       "shape": {
        "columns": 4,
        "rows": 10
       }
      },
      "text/html": [
       "<div>\n",
       "<style scoped>\n",
       "    .dataframe tbody tr th:only-of-type {\n",
       "        vertical-align: middle;\n",
       "    }\n",
       "\n",
       "    .dataframe tbody tr th {\n",
       "        vertical-align: top;\n",
       "    }\n",
       "\n",
       "    .dataframe thead th {\n",
       "        text-align: right;\n",
       "    }\n",
       "</style>\n",
       "<table border=\"1\" class=\"dataframe\">\n",
       "  <thead>\n",
       "    <tr style=\"text-align: right;\">\n",
       "      <th></th>\n",
       "      <th>departure_continent</th>\n",
       "      <th>arrival_continent</th>\n",
       "      <th>co2_per_distance</th>\n",
       "      <th>domestic</th>\n",
       "    </tr>\n",
       "  </thead>\n",
       "  <tbody>\n",
       "    <tr>\n",
       "      <th>101670</th>\n",
       "      <td>EU</td>\n",
       "      <td>EU</td>\n",
       "      <td>130.133974</td>\n",
       "      <td>0</td>\n",
       "    </tr>\n",
       "    <tr>\n",
       "      <th>112831</th>\n",
       "      <td>NA</td>\n",
       "      <td>NA</td>\n",
       "      <td>41.908369</td>\n",
       "      <td>1</td>\n",
       "    </tr>\n",
       "    <tr>\n",
       "      <th>96466</th>\n",
       "      <td>EU</td>\n",
       "      <td>EU</td>\n",
       "      <td>78.804983</td>\n",
       "      <td>1</td>\n",
       "    </tr>\n",
       "    <tr>\n",
       "      <th>13667</th>\n",
       "      <td>EU</td>\n",
       "      <td>EU</td>\n",
       "      <td>4179.994616</td>\n",
       "      <td>0</td>\n",
       "    </tr>\n",
       "    <tr>\n",
       "      <th>257841</th>\n",
       "      <td>AS</td>\n",
       "      <td>AS</td>\n",
       "      <td>4947.255015</td>\n",
       "      <td>1</td>\n",
       "    </tr>\n",
       "    <tr>\n",
       "      <th>285622</th>\n",
       "      <td>SA</td>\n",
       "      <td>SA</td>\n",
       "      <td>7.506216</td>\n",
       "      <td>1</td>\n",
       "    </tr>\n",
       "    <tr>\n",
       "      <th>56609</th>\n",
       "      <td>NA</td>\n",
       "      <td>NA</td>\n",
       "      <td>644.417555</td>\n",
       "      <td>1</td>\n",
       "    </tr>\n",
       "    <tr>\n",
       "      <th>130770</th>\n",
       "      <td>EU</td>\n",
       "      <td>EU</td>\n",
       "      <td>41.771283</td>\n",
       "      <td>0</td>\n",
       "    </tr>\n",
       "    <tr>\n",
       "      <th>160367</th>\n",
       "      <td>EU</td>\n",
       "      <td>EU</td>\n",
       "      <td>18.498675</td>\n",
       "      <td>0</td>\n",
       "    </tr>\n",
       "    <tr>\n",
       "      <th>59810</th>\n",
       "      <td>EU</td>\n",
       "      <td>EU</td>\n",
       "      <td>751.118112</td>\n",
       "      <td>0</td>\n",
       "    </tr>\n",
       "  </tbody>\n",
       "</table>\n",
       "</div>"
      ],
      "text/plain": [
       "       departure_continent arrival_continent  co2_per_distance  domestic\n",
       "101670                  EU                EU        130.133974         0\n",
       "112831                  NA                NA         41.908369         1\n",
       "96466                   EU                EU         78.804983         1\n",
       "13667                   EU                EU       4179.994616         0\n",
       "257841                  AS                AS       4947.255015         1\n",
       "285622                  SA                SA          7.506216         1\n",
       "56609                   NA                NA        644.417555         1\n",
       "130770                  EU                EU         41.771283         0\n",
       "160367                  EU                EU         18.498675         0\n",
       "59810                   EU                EU        751.118112         0"
      ]
     },
     "execution_count": 38,
     "metadata": {},
     "output_type": "execute_result"
    }
   ],
   "source": [
    "df= df[['departure_continent', 'arrival_continent', 'co2_per_distance', 'domestic']]\n",
    "df.sample(10)"
   ]
  },
  {
   "cell_type": "code",
   "execution_count": 41,
   "id": "2c414a63",
   "metadata": {},
   "outputs": [
    {
     "name": "stdout",
     "output_type": "stream",
     "text": [
      "  departure_continent  co2_per_distance\n",
      "0                  AF      1.503637e+07\n",
      "1                  AS      2.074052e+08\n",
      "2                  EU      1.153271e+08\n",
      "3                  NA      1.351073e+08\n",
      "4                  OC      1.437581e+07\n",
      "5                  SA      2.766717e+07\n",
      "  arrival_continent  co2_per_distance\n",
      "0                AF      1.503637e+07\n",
      "1                AS      2.074052e+08\n",
      "2                EU      1.153271e+08\n",
      "3                NA      1.351073e+08\n",
      "4                OC      1.437581e+07\n",
      "5                SA      2.766717e+07\n"
     ]
    }
   ],
   "source": [
    "\n",
    "emissions_by_departure = df.groupby('departure_continent')['co2_per_distance'].sum().reset_index()\n",
    "emissions_by_arrival = df.groupby('arrival_continent')['co2_per_distance'].sum().reset_index()\n",
    "\n",
    "print(emissions_by_departure)\n",
    "print(emissions_by_arrival)\n"
   ]
  },
  {
   "cell_type": "code",
   "execution_count": 45,
   "id": "bff8198a",
   "metadata": {},
   "outputs": [
    {
     "name": "stdout",
     "output_type": "stream",
     "text": [
      "International - CO₂ Emissions by Departure Continent:\n",
      "  departure_continent  co2_per_distance\n",
      "0                  AF      8.961924e+06\n",
      "1                  AS      7.290917e+07\n",
      "2                  EU      7.916991e+07\n",
      "3                  NA      2.506492e+07\n",
      "4                  OC      3.278360e+06\n",
      "5                  SA      4.470839e+06\n",
      "International - CO₂ Emissions by Arrival Continent:\n",
      "  arrival_continent  co2_per_distance\n",
      "0                AF      8.961924e+06\n",
      "1                AS      7.290917e+07\n",
      "2                EU      7.916991e+07\n",
      "3                NA      2.506492e+07\n",
      "4                OC      3.278360e+06\n",
      "5                SA      4.470839e+06\n"
     ]
    }
   ],
   "source": [
    "# 1. Filter only domestic flights\n",
    "df_domestic = df[df['domestic'] == 0]\n",
    "\n",
    "# 2. Group by departure continent (for domestic flights)\n",
    "emissions_by_departure_domestic = df_domestic.groupby('departure_continent')['co2_per_distance'].sum().reset_index()\n",
    "\n",
    "# 3. Group by arrival continent (for domestic flights)\n",
    "emissions_by_arrival_domestic = df_domestic.groupby('arrival_continent')['co2_per_distance'].sum().reset_index()\n",
    "\n",
    "# 4. Print results\n",
    "print(\"International - CO₂ Emissions by Departure Continent:\")\n",
    "print(emissions_by_departure_domestic)\n",
    "\n",
    "print(\"International - CO₂ Emissions by Arrival Continent:\")\n",
    "print(emissions_by_arrival_domestic)\n"
   ]
  },
  {
   "cell_type": "code",
   "execution_count": 35,
   "id": "ec2a9073",
   "metadata": {},
   "outputs": [
    {
     "data": {
      "image/png": "[encoded data removed]",
      "text/plain": [
       "<Figure size 1000x600 with 1 Axes>"
      ]
     },
     "metadata": {},
     "output_type": "display_data"
    }
   ],
   "source": [
    "import pandas as pd\n",
    "import matplotlib.pyplot as plt\n",
    "\n",
    "# 1. Prepare emissions\n",
    "emissions_by_departure = df.groupby('departure_continent')['co2_per_distance'].sum().reset_index()\n",
    "emissions_by_arrival = df.groupby('arrival_continent')['co2_per_distance'].sum().reset_index()\n",
    "\n",
    "# 2. Merge them into one DataFrame\n",
    "emissions_combined = pd.merge(\n",
    "    emissions_by_departure, \n",
    "    emissions_by_arrival, \n",
    "    left_on='departure_continent', \n",
    "    right_on='arrival_continent', \n",
    "    how='outer', \n",
    "    suffixes=('_departure', '_arrival')\n",
    ")\n",
    "\n",
    "# 3. Fill missing values with 0 (if any)\n",
    "emissions_combined = emissions_combined.fillna(0)\n",
    "\n",
    "# 4. Use one common 'continent' column\n",
    "emissions_combined['continent'] = emissions_combined['departure_continent'].combine_first(emissions_combined['arrival_continent'])\n",
    "\n",
    "# 5. Sort for nicer visualization\n",
    "emissions_combined = emissions_combined.sort_values('co2_per_distance_departure', ascending=True)\n",
    "\n",
    "# 6. Plot\n",
    "plt.figure(figsize=(10, 6))\n",
    "bar_width = 0.4\n",
    "index = range(len(emissions_combined))\n",
    "\n",
    "# Departure bars\n",
    "plt.barh(\n",
    "    [i - bar_width/2 for i in index], \n",
    "    emissions_combined['co2_per_distance_departure'], \n",
    "    height=bar_width, \n",
    "    label='Departure CO₂ Emissions'\n",
    ")\n",
    "\n",
    "# Arrival bars\n",
    "plt.barh(\n",
    "    [i + bar_width/2 for i in index], \n",
    "    emissions_combined['co2_per_distance_arrival'], \n",
    "    height=bar_width, \n",
    "    label='Arrival CO₂ Emissions'\n",
    ")\n",
    "\n",
    "plt.yticks(index, emissions_combined['continent'])\n",
    "plt.xlabel('Total CO₂ Emissions (kg)', fontsize=14)\n",
    "plt.title('Total CO₂ Emissions by Continent (Departure vs Arrival)', fontsize=16)\n",
    "plt.legend()\n",
    "plt.grid(axis='x', linestyle='--', alpha=0.7)\n",
    "plt.tight_layout()\n",
    "plt.show()\n"
   ]
  }
 ],
 "metadata": {
  "kernelspec": {
   "display_name": "base",
   "language": "python",
   "name": "python3"
  },
  "language_info": {
   "codemirror_mode": {
    "name": "ipython",
    "version": 3
   },
   "file_extension": ".py",
   "mimetype": "text/x-python",
   "name": "python",
   "nbconvert_exporter": "python",
   "pygments_lexer": "ipython3",
   "version": "3.12.5"
  }
 },
 "nbformat": 4,
 "nbformat_minor": 5
}
